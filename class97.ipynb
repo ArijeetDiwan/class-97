{
  "nbformat": 4,
  "nbformat_minor": 0,
  "metadata": {
    "colab": {
      "name": "class97.ipynb",
      "provenance": [],
      "collapsed_sections": [],
      "authorship_tag": "ABX9TyNaBuUb8yoG6TyNK/HfEaAK",
      "include_colab_link": true
    },
    "kernelspec": {
      "name": "python3",
      "display_name": "Python 3"
    },
    "language_info": {
      "name": "python"
    }
  },
  "cells": [
    {
      "cell_type": "markdown",
      "metadata": {
        "id": "view-in-github",
        "colab_type": "text"
      },
      "source": [
        "<a href=\"https://colab.research.google.com/github/ArijeetDiwan/class-97/blob/main/class97.ipynb\" target=\"_parent\"><img src=\"https://colab.research.google.com/assets/colab-badge.svg\" alt=\"Open In Colab\"/></a>"
      ]
    },
    {
      "cell_type": "code",
      "metadata": {
        "colab": {
          "base_uri": "https://localhost:8080/"
        },
        "id": "yhWr3ZDUDBvT",
        "outputId": "779bbf48-0f0a-48ec-f459-78bd1a9002a8"
      },
      "source": [
        "myname=\"ArijeetDiwan\"\n",
        "print(myname)\n",
        "myname\n",
        "print(type(myname))\n",
        "print(len(myname))"
      ],
      "execution_count": null,
      "outputs": [
        {
          "output_type": "stream",
          "text": [
            "ArijeetDiwan\n",
            "<class 'str'>\n",
            "12\n"
          ],
          "name": "stdout"
        }
      ]
    },
    {
      "cell_type": "code",
      "metadata": {
        "colab": {
          "base_uri": "https://localhost:8080/"
        },
        "id": "XeHc_TrxDpIy",
        "outputId": "b4fc4644-0d71-4865-f5ea-d446d8aedeb2"
      },
      "source": [
        "mygrade=10\n",
        "mygrade\n",
        "print(type(mygrade))"
      ],
      "execution_count": null,
      "outputs": [
        {
          "output_type": "stream",
          "text": [
            "<class 'int'>\n"
          ],
          "name": "stdout"
        }
      ]
    },
    {
      "cell_type": "code",
      "metadata": {
        "colab": {
          "base_uri": "https://localhost:8080/"
        },
        "id": "z-t_eOK4Dyt1",
        "outputId": "e30c23b6-0b2e-4c5e-c7a6-7762799d67f5"
      },
      "source": [
        "myfriendlist=[\"sheryansh\",\"abhishek\",\"veer\"]\n",
        "print(myfriendlist)\n",
        "print(myfriendlist[0])\n",
        "print(type(myfriendlist))\n",
        "print(len(myfriendlist))"
      ],
      "execution_count": null,
      "outputs": [
        {
          "output_type": "stream",
          "text": [
            "['sheryansh', 'abhishek', 'veer']\n",
            "sheryansh\n",
            "<class 'list'>\n",
            "3\n"
          ],
          "name": "stdout"
        }
      ]
    },
    {
      "cell_type": "code",
      "metadata": {
        "colab": {
          "base_uri": "https://localhost:8080/"
        },
        "id": "roeZ9UYzFbZ2",
        "outputId": "5df84205-144f-4e89-b981-b175c88a3ff4"
      },
      "source": [
        "a=\"I love\"\n",
        "b=\" coding\"\n",
        "print(a+b)"
      ],
      "execution_count": null,
      "outputs": [
        {
          "output_type": "stream",
          "text": [
            "I love coding\n"
          ],
          "name": "stdout"
        }
      ]
    },
    {
      "cell_type": "code",
      "metadata": {
        "colab": {
          "base_uri": "https://localhost:8080/"
        },
        "id": "AP3_ipywF1tM",
        "outputId": "619b8c15-4122-4a83-93aa-a8e1f7b7b443"
      },
      "source": [
        "s=\"Hello World\"\n",
        "s\n",
        "print(s[0])\n",
        "#s[0]\n",
        "print(s[4])\n",
        "print(s[-1])"
      ],
      "execution_count": null,
      "outputs": [
        {
          "output_type": "stream",
          "text": [
            "H\n",
            "o\n",
            "d\n"
          ],
          "name": "stdout"
        }
      ]
    },
    {
      "cell_type": "code",
      "metadata": {
        "colab": {
          "base_uri": "https://localhost:8080/"
        },
        "id": "k6tAU-lHGrAH",
        "outputId": "b484bfb7-629f-455c-d410-627bae3eb817"
      },
      "source": [
        "p=\"jabalpur\"\n",
        "p.upper()\n",
        "print(p.upper())\n",
        "print(p.lower())"
      ],
      "execution_count": null,
      "outputs": [
        {
          "output_type": "stream",
          "text": [
            "JABALPUR\n",
            "jabalpur\n"
          ],
          "name": "stdout"
        }
      ]
    },
    {
      "cell_type": "code",
      "metadata": {
        "colab": {
          "base_uri": "https://localhost:8080/"
        },
        "id": "8pRTosfTHF-m",
        "outputId": "ededea7f-c20a-46f7-aca9-08b272aefe32"
      },
      "source": [
        "name=input(\"what is your name\")\n",
        "greeting=\" hello \"\n",
        "print(greeting+name)"
      ],
      "execution_count": null,
      "outputs": [
        {
          "output_type": "stream",
          "text": [
            "what is your nameokokmam\n",
            " hello okokmam\n"
          ],
          "name": "stdout"
        }
      ]
    },
    {
      "cell_type": "code",
      "metadata": {
        "colab": {
          "base_uri": "https://localhost:8080/"
        },
        "id": "Bx4UF-cHHe-o",
        "outputId": "44e0ae88-1a58-4a40-e463-57047f8b0e56"
      },
      "source": [
        "name=\"choclate\"\n",
        "pqr=name in [\"vanila\",\"choclate\"]\n",
        "print(pqr)\n"
      ],
      "execution_count": null,
      "outputs": [
        {
          "output_type": "stream",
          "text": [
            "True\n"
          ],
          "name": "stdout"
        }
      ]
    },
    {
      "cell_type": "code",
      "metadata": {
        "colab": {
          "base_uri": "https://localhost:8080/"
        },
        "id": "N8a24ffBIbUp",
        "outputId": "4e53d496-3136-44a9-ce71-ebf0f7df3bdb"
      },
      "source": [
        "x1=6142\n",
        "y1=3629\n",
        "x2='hello'\n",
        "y2='hello'\n",
        "d1={'a':1,'b':2}\n",
        "#d1 is a dictionary data type which store key value pair\n",
        "print(type(d1))\n",
        "print(id(x1))\n",
        "print(id(x2))"
      ],
      "execution_count": null,
      "outputs": [
        {
          "output_type": "stream",
          "text": [
            "<class 'dict'>\n",
            "140293633941392\n",
            "140293778234608\n"
          ],
          "name": "stdout"
        }
      ]
    },
    {
      "cell_type": "code",
      "metadata": {
        "colab": {
          "base_uri": "https://localhost:8080/"
        },
        "id": "3nEq7LtDMREg",
        "outputId": "f89570ca-bf20-4ce5-b734-ef6cef955b13"
      },
      "source": [
        "introString=input(\"Enter string:\")\n",
        "characterCount=0\n",
        "wordCount=1\n",
        "for i in introString:\n",
        "       characterCount=characterCount+1\n",
        "       if(i==' '):\n",
        "            wordCount=wordCount+1\n",
        "print(\"Number of word in the string:\")\n",
        "print(wordCount)\n",
        "print(\"Number of character in the string:\")\n",
        "print(characterCount)\n"
      ],
      "execution_count": null,
      "outputs": [
        {
          "output_type": "stream",
          "text": [
            "Enter string:enter a string\n",
            "Number of word in the string:\n",
            "3\n",
            "Number of character in the string:\n",
            "14\n"
          ],
          "name": "stdout"
        }
      ]
    }
  ]
}